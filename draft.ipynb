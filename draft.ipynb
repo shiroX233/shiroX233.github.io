{
 "cells": [
  {
   "cell_type": "code",
   "execution_count": 1,
   "metadata": {},
   "outputs": [
    {
     "name": "stdout",
     "output_type": "stream",
     "text": [
      "Done!\n"
     ]
    }
   ],
   "source": [
    "# 照片归档程序\n",
    "\n",
    "# 将photos文件夹中的所有文件按照文件名（年-月）进行分类，放到对应的文件夹中（年）\n",
    "photos_dir = r\"C:\\Users\\Rohnson\\Downloads\\compressed_photos\"\n",
    "import os\n",
    "import shutil\n",
    "import re\n",
    "\n",
    "def get_year_month(file_name):\n",
    "    # 从文件名中提取年月\n",
    "    pattern = re.compile(r'(\\d{4})-(\\d{2})')\n",
    "    match = pattern.search(file_name)\n",
    "    if match:\n",
    "        return match.group(1), match.group(2)\n",
    "    return None, None\n",
    "\n",
    "def move_file(file_name):\n",
    "    year, month = get_year_month(file_name)\n",
    "    if year and month:\n",
    "        year_dir = os.path.join(photos_dir, year)\n",
    "        if not os.path.exists(year_dir):\n",
    "            os.mkdir(year_dir)\n",
    "        shutil.move(os.path.join(photos_dir, file_name), os.path.join(year_dir, file_name))\n",
    "        \n",
    "for file_name in os.listdir(photos_dir):\n",
    "    move_file(file_name)\n",
    "\n",
    "print('Done!')"
   ]
  }
 ],
 "metadata": {
  "kernelspec": {
   "display_name": "brain_stroke",
   "language": "python",
   "name": "python3"
  },
  "language_info": {
   "codemirror_mode": {
    "name": "ipython",
    "version": 3
   },
   "file_extension": ".py",
   "mimetype": "text/x-python",
   "name": "python",
   "nbconvert_exporter": "python",
   "pygments_lexer": "ipython3",
   "version": "3.10.13"
  }
 },
 "nbformat": 4,
 "nbformat_minor": 2
}
